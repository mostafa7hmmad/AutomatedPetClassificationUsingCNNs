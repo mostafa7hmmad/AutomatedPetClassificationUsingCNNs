{
 "cells": [
  {
   "cell_type": "code",
   "execution_count": 8,
   "id": "e62cc639-8256-4c97-8ed7-3895275b7706",
   "metadata": {},
   "outputs": [],
   "source": [
    "import pandas as pd\n",
    "import numpy as np\n",
    "import matplotlib.pyplot as plt\n",
    "import seaborn as sns\n",
    "import tensorflow as tf\n",
    "from tensorflow.keras.preprocessing.image import ImageDataGenerator"
   ]
  },
  {
   "cell_type": "markdown",
   "id": "9205faa6-66a5-4f9f-a729-0a6fde8a281b",
   "metadata": {},
   "source": [
    "# Data Preprocessing\n",
    " -  Image Augmentation For Training"
   ]
  },
  {
   "cell_type": "code",
   "execution_count": 9,
   "id": "45de50e9-505d-43f7-baca-9c7c42a03a6f",
   "metadata": {},
   "outputs": [],
   "source": [
    "trainAug = ImageDataGenerator(\n",
    "    rescale=1./255,  # Normalize pixel values to the range [0, 1] by dividing each pixel by 255\n",
    "    shear_range=0.2,  # Apply random shearing transformations (slanting the image) with a range of 20%\n",
    "    zoom_range=0.2,  # Apply random zooming transformations with a range of 20%\n",
    "    horizontal_flip=True  # Randomly flip images horizontally (left to right)\n",
    ")"
   ]
  },
  {
   "cell_type": "markdown",
   "id": "43487f14-9c1c-4526-bb00-a97e1d83b725",
   "metadata": {},
   "source": [
    "### Load Data"
   ]
  },
  {
   "cell_type": "code",
   "execution_count": 10,
   "id": "8b9f418b-9977-47ea-8ca8-5c0bb66a1f88",
   "metadata": {},
   "outputs": [
    {
     "name": "stdout",
     "output_type": "stream",
     "text": [
      "Found 8000 images belonging to 2 classes.\n"
     ]
    }
   ],
   "source": [
    "df_train=trainAug.flow_from_directory('training_set',target_size=(64,64),class_mode='binary',batch_size = 32)"
   ]
  },
  {
   "cell_type": "markdown",
   "id": "6f251605-d71c-4a14-8b72-a5d03ec99410",
   "metadata": {},
   "source": [
    "# Preprocesing Test Data"
   ]
  },
  {
   "cell_type": "code",
   "execution_count": 11,
   "id": "6b0e3f18-d40b-4b10-839e-b35c555dbc15",
   "metadata": {},
   "outputs": [
    {
     "name": "stdout",
     "output_type": "stream",
     "text": [
      "Found 2000 images belonging to 2 classes.\n"
     ]
    }
   ],
   "source": [
    "TestAug=ImageDataGenerator(rescale=1./255)\n",
    "df_test=TestAug.flow_from_directory('test_set',target_size=(64,64),class_mode='binary', batch_size = 32)"
   ]
  },
  {
   "cell_type": "markdown",
   "id": "b135a5dd-6e6e-4137-b951-e29145611915",
   "metadata": {},
   "source": [
    "## Bulding CNN\n",
    "  - Convolution Layer => & Feature Detectors => & Relu Layer => & Create Feaure Maps\n",
    "  - Pooling Layer or Ave Pooling layer\n",
    "  - Flatenning layer  \n",
    "  - Full Contection Layer => Hiddens Layer and Output layer "
   ]
  },
  {
   "cell_type": "code",
   "execution_count": 12,
   "id": "7ce07430-d2f9-4bba-99db-0a9b285c8bc7",
   "metadata": {},
   "outputs": [],
   "source": [
    "from tensorflow.keras.layers import Conv2D,Dense,AveragePooling2D,Flatten,MaxPool2D\n",
    "cnn=tf.keras.models.Sequential([\n",
    "    Conv2D(kernel_size=(3,3),filters=32,activation='relu',input_shape=[64,64,3]),\n",
    "    MaxPool2D(pool_size=(2,2),strides=2),\n",
    "    Conv2D(kernel_size=(3,3),filters=32,activation='relu'),\n",
    "    MaxPool2D(pool_size=(2,2),strides=2),\n",
    "   Flatten(),\n",
    "    Dense(units=128,activation='relu'),\n",
    "    Dense(units=1,activation='sigmoid')\n",
    "])"
   ]
  },
  {
   "cell_type": "code",
   "execution_count": 13,
   "id": "991576c4-b28b-44c2-83cd-0bcda871b07a",
   "metadata": {},
   "outputs": [],
   "source": [
    "cnn.compile(optimizer = 'adam', loss = 'binary_crossentropy', metrics = ['accuracy'])"
   ]
  },
  {
   "cell_type": "code",
   "execution_count": 14,
   "id": "ea91eb9e-fad9-4211-8153-03ecd1b42cc4",
   "metadata": {},
   "outputs": [
    {
     "name": "stdout",
     "output_type": "stream",
     "text": [
      "Epoch 1/25\n",
      "\u001b[1m250/250\u001b[0m \u001b[32m━━━━━━━━━━━━━━━━━━━━\u001b[0m\u001b[37m\u001b[0m \u001b[1m57s\u001b[0m 216ms/step - accuracy: 0.5210 - loss: 0.7067 - val_accuracy: 0.6220 - val_loss: 0.6615\n",
      "Epoch 2/25\n",
      "\u001b[1m250/250\u001b[0m \u001b[32m━━━━━━━━━━━━━━━━━━━━\u001b[0m\u001b[37m\u001b[0m \u001b[1m52s\u001b[0m 206ms/step - accuracy: 0.6564 - loss: 0.6273 - val_accuracy: 0.7200 - val_loss: 0.5615\n",
      "Epoch 3/25\n",
      "\u001b[1m250/250\u001b[0m \u001b[32m━━━━━━━━━━━━━━━━━━━━\u001b[0m\u001b[37m\u001b[0m \u001b[1m52s\u001b[0m 207ms/step - accuracy: 0.7031 - loss: 0.5679 - val_accuracy: 0.7420 - val_loss: 0.5240\n",
      "Epoch 4/25\n",
      "\u001b[1m250/250\u001b[0m \u001b[32m━━━━━━━━━━━━━━━━━━━━\u001b[0m\u001b[37m\u001b[0m \u001b[1m52s\u001b[0m 207ms/step - accuracy: 0.7319 - loss: 0.5311 - val_accuracy: 0.7560 - val_loss: 0.5102\n",
      "Epoch 5/25\n",
      "\u001b[1m250/250\u001b[0m \u001b[32m━━━━━━━━━━━━━━━━━━━━\u001b[0m\u001b[37m\u001b[0m \u001b[1m52s\u001b[0m 207ms/step - accuracy: 0.7481 - loss: 0.5085 - val_accuracy: 0.7535 - val_loss: 0.4951\n",
      "Epoch 6/25\n",
      "\u001b[1m250/250\u001b[0m \u001b[32m━━━━━━━━━━━━━━━━━━━━\u001b[0m\u001b[37m\u001b[0m \u001b[1m52s\u001b[0m 210ms/step - accuracy: 0.7646 - loss: 0.4898 - val_accuracy: 0.7655 - val_loss: 0.4969\n",
      "Epoch 7/25\n",
      "\u001b[1m250/250\u001b[0m \u001b[32m━━━━━━━━━━━━━━━━━━━━\u001b[0m\u001b[37m\u001b[0m \u001b[1m50s\u001b[0m 199ms/step - accuracy: 0.7743 - loss: 0.4638 - val_accuracy: 0.7640 - val_loss: 0.4867\n",
      "Epoch 8/25\n",
      "\u001b[1m250/250\u001b[0m \u001b[32m━━━━━━━━━━━━━━━━━━━━\u001b[0m\u001b[37m\u001b[0m \u001b[1m50s\u001b[0m 201ms/step - accuracy: 0.7800 - loss: 0.4578 - val_accuracy: 0.7790 - val_loss: 0.4574\n",
      "Epoch 9/25\n",
      "\u001b[1m250/250\u001b[0m \u001b[32m━━━━━━━━━━━━━━━━━━━━\u001b[0m\u001b[37m\u001b[0m \u001b[1m84s\u001b[0m 209ms/step - accuracy: 0.7906 - loss: 0.4430 - val_accuracy: 0.7540 - val_loss: 0.5193\n",
      "Epoch 10/25\n",
      "\u001b[1m250/250\u001b[0m \u001b[32m━━━━━━━━━━━━━━━━━━━━\u001b[0m\u001b[37m\u001b[0m \u001b[1m53s\u001b[0m 210ms/step - accuracy: 0.7958 - loss: 0.4365 - val_accuracy: 0.7940 - val_loss: 0.4683\n",
      "Epoch 11/25\n",
      "\u001b[1m250/250\u001b[0m \u001b[32m━━━━━━━━━━━━━━━━━━━━\u001b[0m\u001b[37m\u001b[0m \u001b[1m52s\u001b[0m 210ms/step - accuracy: 0.7875 - loss: 0.4382 - val_accuracy: 0.7845 - val_loss: 0.4600\n",
      "Epoch 12/25\n",
      "\u001b[1m250/250\u001b[0m \u001b[32m━━━━━━━━━━━━━━━━━━━━\u001b[0m\u001b[37m\u001b[0m \u001b[1m53s\u001b[0m 211ms/step - accuracy: 0.8142 - loss: 0.4109 - val_accuracy: 0.7880 - val_loss: 0.4623\n",
      "Epoch 13/25\n",
      "\u001b[1m250/250\u001b[0m \u001b[32m━━━━━━━━━━━━━━━━━━━━\u001b[0m\u001b[37m\u001b[0m \u001b[1m52s\u001b[0m 209ms/step - accuracy: 0.8180 - loss: 0.4022 - val_accuracy: 0.7935 - val_loss: 0.4477\n",
      "Epoch 14/25\n",
      "\u001b[1m250/250\u001b[0m \u001b[32m━━━━━━━━━━━━━━━━━━━━\u001b[0m\u001b[37m\u001b[0m \u001b[1m52s\u001b[0m 206ms/step - accuracy: 0.8276 - loss: 0.3846 - val_accuracy: 0.7810 - val_loss: 0.4752\n",
      "Epoch 15/25\n",
      "\u001b[1m250/250\u001b[0m \u001b[32m━━━━━━━━━━━━━━━━━━━━\u001b[0m\u001b[37m\u001b[0m \u001b[1m54s\u001b[0m 218ms/step - accuracy: 0.8237 - loss: 0.3721 - val_accuracy: 0.7950 - val_loss: 0.4646\n",
      "Epoch 16/25\n",
      "\u001b[1m250/250\u001b[0m \u001b[32m━━━━━━━━━━━━━━━━━━━━\u001b[0m\u001b[37m\u001b[0m \u001b[1m53s\u001b[0m 211ms/step - accuracy: 0.8358 - loss: 0.3671 - val_accuracy: 0.7990 - val_loss: 0.4520\n",
      "Epoch 17/25\n",
      "\u001b[1m250/250\u001b[0m \u001b[32m━━━━━━━━━━━━━━━━━━━━\u001b[0m\u001b[37m\u001b[0m \u001b[1m54s\u001b[0m 214ms/step - accuracy: 0.8459 - loss: 0.3520 - val_accuracy: 0.8015 - val_loss: 0.4693\n",
      "Epoch 18/25\n",
      "\u001b[1m250/250\u001b[0m \u001b[32m━━━━━━━━━━━━━━━━━━━━\u001b[0m\u001b[37m\u001b[0m \u001b[1m51s\u001b[0m 204ms/step - accuracy: 0.8454 - loss: 0.3451 - val_accuracy: 0.7920 - val_loss: 0.4601\n",
      "Epoch 19/25\n",
      "\u001b[1m250/250\u001b[0m \u001b[32m━━━━━━━━━━━━━━━━━━━━\u001b[0m\u001b[37m\u001b[0m \u001b[1m51s\u001b[0m 205ms/step - accuracy: 0.8470 - loss: 0.3387 - val_accuracy: 0.7980 - val_loss: 0.4603\n",
      "Epoch 20/25\n",
      "\u001b[1m250/250\u001b[0m \u001b[32m━━━━━━━━━━━━━━━━━━━━\u001b[0m\u001b[37m\u001b[0m \u001b[1m54s\u001b[0m 214ms/step - accuracy: 0.8509 - loss: 0.3335 - val_accuracy: 0.7845 - val_loss: 0.4682\n",
      "Epoch 21/25\n",
      "\u001b[1m250/250\u001b[0m \u001b[32m━━━━━━━━━━━━━━━━━━━━\u001b[0m\u001b[37m\u001b[0m \u001b[1m54s\u001b[0m 217ms/step - accuracy: 0.8517 - loss: 0.3313 - val_accuracy: 0.8045 - val_loss: 0.4376\n",
      "Epoch 22/25\n",
      "\u001b[1m250/250\u001b[0m \u001b[32m━━━━━━━━━━━━━━━━━━━━\u001b[0m\u001b[37m\u001b[0m \u001b[1m50s\u001b[0m 202ms/step - accuracy: 0.8579 - loss: 0.3336 - val_accuracy: 0.8060 - val_loss: 0.4399\n",
      "Epoch 23/25\n",
      "\u001b[1m250/250\u001b[0m \u001b[32m━━━━━━━━━━━━━━━━━━━━\u001b[0m\u001b[37m\u001b[0m \u001b[1m51s\u001b[0m 203ms/step - accuracy: 0.8570 - loss: 0.3242 - val_accuracy: 0.8025 - val_loss: 0.4674\n",
      "Epoch 24/25\n",
      "\u001b[1m250/250\u001b[0m \u001b[32m━━━━━━━━━━━━━━━━━━━━\u001b[0m\u001b[37m\u001b[0m \u001b[1m51s\u001b[0m 202ms/step - accuracy: 0.8660 - loss: 0.3000 - val_accuracy: 0.8130 - val_loss: 0.4444\n",
      "Epoch 25/25\n",
      "\u001b[1m250/250\u001b[0m \u001b[32m━━━━━━━━━━━━━━━━━━━━\u001b[0m\u001b[37m\u001b[0m \u001b[1m52s\u001b[0m 209ms/step - accuracy: 0.8708 - loss: 0.2993 - val_accuracy: 0.8040 - val_loss: 0.4834\n"
     ]
    },
    {
     "data": {
      "text/plain": [
       "<keras.src.callbacks.history.History at 0x219567c4a90>"
      ]
     },
     "execution_count": 14,
     "metadata": {},
     "output_type": "execute_result"
    }
   ],
   "source": [
    "cnn.fit(x=df_train,validation_data=df_test,epochs=25)"
   ]
  },
  {
   "cell_type": "code",
   "execution_count": 15,
   "id": "b6d2d64a-2d2d-4f27-bbf7-c751f0a22444",
   "metadata": {},
   "outputs": [
    {
     "name": "stderr",
     "output_type": "stream",
     "text": [
      "WARNING:absl:You are saving your model as an HDF5 file via `model.save()` or `keras.saving.save_model(model)`. This file format is considered legacy. We recommend using instead the native Keras format, e.g. `model.save('my_model.keras')` or `keras.saving.save_model(model, 'my_model.keras')`. \n"
     ]
    }
   ],
   "source": [
    "cnn.save('my_cnn_model.h5')  # Save model architecture + weights"
   ]
  },
  {
   "cell_type": "code",
   "execution_count": 17,
   "id": "05ee11fd-2af8-4101-9acc-658db39bb911",
   "metadata": {},
   "outputs": [],
   "source": [
    "np.save('class_indices.npy', df_train.class_indices)\n"
   ]
  },
  {
   "cell_type": "code",
   "execution_count": null,
   "id": "49bb3bf7-9bc0-4d42-ac11-17769d6f5b6a",
   "metadata": {},
   "outputs": [],
   "source": []
  }
 ],
 "metadata": {
  "kernelspec": {
   "display_name": "Python 3 (ipykernel)",
   "language": "python",
   "name": "python3"
  },
  "language_info": {
   "codemirror_mode": {
    "name": "ipython",
    "version": 3
   },
   "file_extension": ".py",
   "mimetype": "text/x-python",
   "name": "python",
   "nbconvert_exporter": "python",
   "pygments_lexer": "ipython3",
   "version": "3.10.2"
  }
 },
 "nbformat": 4,
 "nbformat_minor": 5
}
